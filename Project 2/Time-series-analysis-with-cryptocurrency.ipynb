{
 "cells": [
  {
   "cell_type": "code",
   "execution_count": 2,
   "id": "da0295bd",
   "metadata": {},
   "outputs": [
    {
     "name": "stdout",
     "output_type": "stream",
     "text": [
      "YF.download() has changed argument auto_adjust default to True\n"
     ]
    },
    {
     "name": "stderr",
     "output_type": "stream",
     "text": [
      "[*********************100%***********************]  1 of 1 completed"
     ]
    },
    {
     "name": "stdout",
     "output_type": "stream",
     "text": [
      "Price              Close          High           Low          Open  \\\n",
      "Ticker           BTC-USD       BTC-USD       BTC-USD       BTC-USD   \n",
      "Date                                                                 \n",
      "2018-01-01  13657.200195  14112.200195  13154.700195  14112.200195   \n",
      "2018-01-02  14982.099609  15444.599609  13163.599609  13625.000000   \n",
      "2018-01-03  15201.000000  15572.799805  14844.500000  14978.200195   \n",
      "2018-01-04  15599.200195  15739.700195  14522.200195  15270.700195   \n",
      "2018-01-05  17429.500000  17705.199219  15202.799805  15477.200195   \n",
      "\n",
      "Price            Volume  \n",
      "Ticker          BTC-USD  \n",
      "Date                     \n",
      "2018-01-01  10291200000  \n",
      "2018-01-02  16846600192  \n",
      "2018-01-03  16871900160  \n",
      "2018-01-04  21783199744  \n",
      "2018-01-05  23840899072  \n"
     ]
    },
    {
     "name": "stderr",
     "output_type": "stream",
     "text": [
      "\n"
     ]
    }
   ],
   "source": [
    "import yfinance as yf\n",
    "import pandas as pd\n",
    "\n",
    "# Download historical data for Bitcoin\n",
    "btc = yf.download('BTC-USD', start='2018-01-01', end='2025-01-01')\n",
    "\n",
    "# Display basic info\n",
    "print(btc.head())"
   ]
  },
  {
   "cell_type": "code",
   "execution_count": 3,
   "id": "7e0f8a12",
   "metadata": {},
   "outputs": [
    {
     "name": "stdout",
     "output_type": "stream",
     "text": [
      "Price   Ticker \n",
      "Close   BTC-USD    0\n",
      "High    BTC-USD    0\n",
      "Low     BTC-USD    0\n",
      "Open    BTC-USD    0\n",
      "Volume  BTC-USD    0\n",
      "dtype: int64\n"
     ]
    }
   ],
   "source": [
    "# Check for null values\n",
    "print(btc.isnull().sum())\n",
    "\n",
    "# Drop missing rows (if any)\n",
    "btc.dropna(inplace=True)\n",
    "\n",
    "# Reset index (optional)\n",
    "btc.reset_index(inplace=True)\n"
   ]
  },
  {
   "cell_type": "code",
   "execution_count": 4,
   "id": "bd0f76ec",
   "metadata": {},
   "outputs": [],
   "source": [
    "btc['Daily Return'] = btc['Close'].pct_change()\n",
    "btc.dropna(inplace=True)\n"
   ]
  },
  {
   "cell_type": "code",
   "execution_count": 5,
   "id": "e9e3a1b2",
   "metadata": {},
   "outputs": [
    {
     "name": "stdout",
     "output_type": "stream",
     "text": [
      "Price                            Date          Close           High  \\\n",
      "Ticker                                       BTC-USD        BTC-USD   \n",
      "count                            2556    2556.000000    2556.000000   \n",
      "mean    2021-07-02 12:00:00.000000256   28091.281832   28682.920146   \n",
      "min               2018-01-02 00:00:00    3236.761719    3275.377930   \n",
      "25%               2019-10-02 18:00:00    8975.989502    9202.108154   \n",
      "50%               2021-07-02 12:00:00   22213.281250   22623.359375   \n",
      "75%               2023-04-02 06:00:00   42842.737305   43604.284180   \n",
      "max               2024-12-31 00:00:00  106140.601562  108268.445312   \n",
      "std                               NaN   22142.085702   22597.941208   \n",
      "\n",
      "Price             Low           Open        Volume Daily Return  \n",
      "Ticker        BTC-USD        BTC-USD       BTC-USD               \n",
      "count     2556.000000    2556.000000  2.556000e+03  2556.000000  \n",
      "mean     27411.811656   28061.824903  2.696676e+10     0.001383  \n",
      "min       3191.303467    3236.274658  2.923670e+09    -0.371695  \n",
      "25%       8792.074707    8940.944092  1.381059e+10    -0.013781  \n",
      "50%      21499.740234   22176.568359  2.408015e+10     0.000830  \n",
      "75%      41923.797852   42834.820312  3.536407e+10     0.016202  \n",
      "max     105291.734375  106147.296875  3.509679e+11     0.187465  \n",
      "std      21611.060384   22108.409739  1.965635e+10     0.035262  \n"
     ]
    }
   ],
   "source": [
    "# Save to CSV (optional)\n",
    "btc.to_csv(\"bitcoin_data.csv\", index=False)\n",
    "\n",
    "# Quick stats\n",
    "print(btc.describe())"
   ]
  },
  {
   "cell_type": "code",
   "execution_count": 6,
   "id": "480726a9",
   "metadata": {},
   "outputs": [
    {
     "data": {
      "text/html": [
       "<div>\n",
       "<style scoped>\n",
       "    .dataframe tbody tr th:only-of-type {\n",
       "        vertical-align: middle;\n",
       "    }\n",
       "\n",
       "    .dataframe tbody tr th {\n",
       "        vertical-align: top;\n",
       "    }\n",
       "\n",
       "    .dataframe thead th {\n",
       "        text-align: right;\n",
       "    }\n",
       "</style>\n",
       "<table border=\"1\" class=\"dataframe\">\n",
       "  <thead>\n",
       "    <tr style=\"text-align: right;\">\n",
       "      <th></th>\n",
       "      <th>Date</th>\n",
       "      <th>Close</th>\n",
       "      <th>High</th>\n",
       "      <th>Low</th>\n",
       "      <th>Open</th>\n",
       "      <th>Volume</th>\n",
       "      <th>Daily Return</th>\n",
       "    </tr>\n",
       "  </thead>\n",
       "  <tbody>\n",
       "    <tr>\n",
       "      <th>0</th>\n",
       "      <td>NaN</td>\n",
       "      <td>BTC-USD</td>\n",
       "      <td>BTC-USD</td>\n",
       "      <td>BTC-USD</td>\n",
       "      <td>BTC-USD</td>\n",
       "      <td>BTC-USD</td>\n",
       "      <td>NaN</td>\n",
       "    </tr>\n",
       "    <tr>\n",
       "      <th>1</th>\n",
       "      <td>2018-01-02</td>\n",
       "      <td>14982.099609375</td>\n",
       "      <td>15444.599609375</td>\n",
       "      <td>13163.599609375</td>\n",
       "      <td>13625.0</td>\n",
       "      <td>16846600192</td>\n",
       "      <td>0.097011</td>\n",
       "    </tr>\n",
       "    <tr>\n",
       "      <th>2</th>\n",
       "      <td>2018-01-03</td>\n",
       "      <td>15201.0</td>\n",
       "      <td>15572.7998046875</td>\n",
       "      <td>14844.5</td>\n",
       "      <td>14978.2001953125</td>\n",
       "      <td>16871900160</td>\n",
       "      <td>0.014611</td>\n",
       "    </tr>\n",
       "    <tr>\n",
       "      <th>3</th>\n",
       "      <td>2018-01-04</td>\n",
       "      <td>15599.2001953125</td>\n",
       "      <td>15739.7001953125</td>\n",
       "      <td>14522.2001953125</td>\n",
       "      <td>15270.7001953125</td>\n",
       "      <td>21783199744</td>\n",
       "      <td>0.026196</td>\n",
       "    </tr>\n",
       "    <tr>\n",
       "      <th>4</th>\n",
       "      <td>2018-01-05</td>\n",
       "      <td>17429.5</td>\n",
       "      <td>17705.19921875</td>\n",
       "      <td>15202.7998046875</td>\n",
       "      <td>15477.2001953125</td>\n",
       "      <td>23840899072</td>\n",
       "      <td>0.117333</td>\n",
       "    </tr>\n",
       "    <tr>\n",
       "      <th>...</th>\n",
       "      <td>...</td>\n",
       "      <td>...</td>\n",
       "      <td>...</td>\n",
       "      <td>...</td>\n",
       "      <td>...</td>\n",
       "      <td>...</td>\n",
       "      <td>...</td>\n",
       "    </tr>\n",
       "    <tr>\n",
       "      <th>2552</th>\n",
       "      <td>2024-12-27</td>\n",
       "      <td>94164.859375</td>\n",
       "      <td>97294.84375</td>\n",
       "      <td>93310.7421875</td>\n",
       "      <td>95704.9765625</td>\n",
       "      <td>52419934565</td>\n",
       "      <td>-0.017022</td>\n",
       "    </tr>\n",
       "    <tr>\n",
       "      <th>2553</th>\n",
       "      <td>2024-12-28</td>\n",
       "      <td>95163.9296875</td>\n",
       "      <td>95525.8984375</td>\n",
       "      <td>94014.2890625</td>\n",
       "      <td>94160.1875</td>\n",
       "      <td>24107436185</td>\n",
       "      <td>0.010610</td>\n",
       "    </tr>\n",
       "    <tr>\n",
       "      <th>2554</th>\n",
       "      <td>2024-12-29</td>\n",
       "      <td>93530.2265625</td>\n",
       "      <td>95174.875</td>\n",
       "      <td>92881.7890625</td>\n",
       "      <td>95174.0546875</td>\n",
       "      <td>29635885267</td>\n",
       "      <td>-0.017167</td>\n",
       "    </tr>\n",
       "    <tr>\n",
       "      <th>2555</th>\n",
       "      <td>2024-12-30</td>\n",
       "      <td>92643.2109375</td>\n",
       "      <td>94903.3203125</td>\n",
       "      <td>91317.1328125</td>\n",
       "      <td>93527.1953125</td>\n",
       "      <td>56188003691</td>\n",
       "      <td>-0.009484</td>\n",
       "    </tr>\n",
       "    <tr>\n",
       "      <th>2556</th>\n",
       "      <td>2024-12-31</td>\n",
       "      <td>93429.203125</td>\n",
       "      <td>96090.6015625</td>\n",
       "      <td>91914.03125</td>\n",
       "      <td>92643.25</td>\n",
       "      <td>43625106843</td>\n",
       "      <td>0.008484</td>\n",
       "    </tr>\n",
       "  </tbody>\n",
       "</table>\n",
       "<p>2557 rows × 7 columns</p>\n",
       "</div>"
      ],
      "text/plain": [
       "            Date             Close              High               Low  \\\n",
       "0            NaN           BTC-USD           BTC-USD           BTC-USD   \n",
       "1     2018-01-02   14982.099609375   15444.599609375   13163.599609375   \n",
       "2     2018-01-03           15201.0  15572.7998046875           14844.5   \n",
       "3     2018-01-04  15599.2001953125  15739.7001953125  14522.2001953125   \n",
       "4     2018-01-05           17429.5    17705.19921875  15202.7998046875   \n",
       "...          ...               ...               ...               ...   \n",
       "2552  2024-12-27      94164.859375       97294.84375     93310.7421875   \n",
       "2553  2024-12-28     95163.9296875     95525.8984375     94014.2890625   \n",
       "2554  2024-12-29     93530.2265625         95174.875     92881.7890625   \n",
       "2555  2024-12-30     92643.2109375     94903.3203125     91317.1328125   \n",
       "2556  2024-12-31      93429.203125     96090.6015625       91914.03125   \n",
       "\n",
       "                  Open       Volume  Daily Return  \n",
       "0              BTC-USD      BTC-USD           NaN  \n",
       "1              13625.0  16846600192      0.097011  \n",
       "2     14978.2001953125  16871900160      0.014611  \n",
       "3     15270.7001953125  21783199744      0.026196  \n",
       "4     15477.2001953125  23840899072      0.117333  \n",
       "...                ...          ...           ...  \n",
       "2552     95704.9765625  52419934565     -0.017022  \n",
       "2553        94160.1875  24107436185      0.010610  \n",
       "2554     95174.0546875  29635885267     -0.017167  \n",
       "2555     93527.1953125  56188003691     -0.009484  \n",
       "2556          92643.25  43625106843      0.008484  \n",
       "\n",
       "[2557 rows x 7 columns]"
      ]
     },
     "execution_count": 6,
     "metadata": {},
     "output_type": "execute_result"
    }
   ],
   "source": [
    "df = pd.read_csv(\"bitcoin_data.csv\")\n",
    "df"
   ]
  },
  {
   "cell_type": "code",
   "execution_count": null,
   "id": "fc756676",
   "metadata": {},
   "outputs": [],
   "source": []
  }
 ],
 "metadata": {
  "kernelspec": {
   "display_name": "Python 3",
   "language": "python",
   "name": "python3"
  },
  "language_info": {
   "codemirror_mode": {
    "name": "ipython",
    "version": 3
   },
   "file_extension": ".py",
   "mimetype": "text/x-python",
   "name": "python",
   "nbconvert_exporter": "python",
   "pygments_lexer": "ipython3",
   "version": "3.12.10"
  }
 },
 "nbformat": 4,
 "nbformat_minor": 5
}
